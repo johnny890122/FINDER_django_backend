{
 "cells": [
  {
   "cell_type": "code",
   "execution_count": 9,
   "metadata": {},
   "outputs": [],
   "source": [
    "import json\n",
    "import networkx as nx"
   ]
  },
  {
   "cell_type": "code",
   "execution_count": 6,
   "metadata": {},
   "outputs": [],
   "source": [
    "a = [\"911\", \"DOMESTICTERRORWEB\", \"suicide\", \"MAIL\", \"HEROIN_DEALING\", \"HAMBURG_TIE_YEAR\", \"SWINGERS_club\"]\n",
    "data = {i: j for i, j in enumerate(a)}"
   ]
  },
  {
   "cell_type": "code",
   "execution_count": 22,
   "metadata": {},
   "outputs": [],
   "source": [
    "G = read_sample(\"911\")\n",
    "nodes = G_nodes(G)\n",
    "links = G_links(G)\n",
    "centrality = node_centrality_criteria(G)"
   ]
  },
  {
   "cell_type": "code",
   "execution_count": 20,
   "metadata": {},
   "outputs": [],
   "source": [
    "with open(\"links.json\", \"w\") as file:\n",
    "    json.dump(links, file)\n",
    "\n",
    "with open(\"nodes.json\", \"w\") as file:\n",
    "    json.dump(links, file)\n"
   ]
  },
  {
   "cell_type": "code",
   "execution_count": 25,
   "metadata": {},
   "outputs": [],
   "source": [
    "ranking = {\n",
    "    \"degree_ranking\": { n: v for n, v in zip(centrality[\"degree\"][\"node\"], centrality[\"degree\"][\"value\"])},\n",
    "    \"closeness_ranking\": { n: v for n, v in zip(centrality[\"closeness\"][\"node\"], centrality[\"closeness\"][\"value\"])},\n",
    "    \"betweenness_ranking\": { n: v for n, v in zip(centrality[\"betweenness\"][\"node\"], centrality[\"betweenness\"][\"value\"])},\n",
    "    \"page_rank_ranking\": { n: v for n, v in zip(centrality[\"page_rank\"][\"node\"], centrality[\"page_rank\"][\"value\"])},\n",
    "}\n",
    "\n",
    "with open(\"ranking.json\", \"w\") as file:\n",
    "    json.dump(ranking, file)\n"
   ]
  },
  {
   "cell_type": "code",
   "execution_count": 16,
   "metadata": {},
   "outputs": [],
   "source": [
    "def G_nodes(G, graph_layout={}):\n",
    "\n",
    "    degree = {node: degree for (node, degree) in G.degree()}\n",
    "    closeness = {node: closeness for (node, closeness) in nx.closeness_centrality(G).items()}\n",
    "    betweenness = {node: betweenness for (node, betweenness) in nx.betweenness_centrality(G).items()}\n",
    "    pagerank = {node: pagerank for (node, pagerank) in nx.pagerank(G).items()}\n",
    "\n",
    "    nodes = []\n",
    "    # graph_layout[dct[\"id\"]] = {\"x\": dct[\"x\"], \"y\": dct[\"y\"]}\n",
    "    for n, data in list(G.nodes(data=True)):\n",
    "        dct = {\n",
    "            \"id\": n, \"degree\": degree[n], \"closeness\": closeness[n], \n",
    "            \"betweenness\": betweenness[n], \"page_rank\": pagerank[n], \"display\": \"True\"\n",
    "        }\n",
    "        if graph_layout != {}:\n",
    "            dct[\"x\"] = graph_layout[n][\"x\"]\n",
    "            dct[\"y\"] = graph_layout[n][\"y\"]\n",
    "        nodes.append(dct)\n",
    "\n",
    "    # add a pesudo node as center node\n",
    "    if len(list(nx.connected_components(G))) > 1:\n",
    "        nodes.append({\n",
    "            \"id\": \"source\", \"degree\": -1, \"closeness\": -1, \"betweenness\": -1, \"page_rank\": -1, \"display\": \"False\"\n",
    "        })\n",
    "\n",
    "    return nodes\n",
    "\n",
    "def G_links(G):\n",
    "    links = []\n",
    "    for (i, j) in G.edges():\n",
    "        links.append({\"source\": i, \"target\": j, 'dashed': \"False\", \"display\": \"True\"})\n",
    "    \n",
    "    if len(list(nx.connected_components(G))) > 1:\n",
    "        for CC in nx.connected_components(G):\n",
    "            subgraph = G.copy().subgraph(CC)\n",
    "            # find highest degree node \n",
    "            keys = list(nx.degree_centrality(subgraph).keys())\n",
    "            values = list(nx.degree_centrality(subgraph).values())\n",
    "            node = keys[ np.argmax(values)]\n",
    "            links.append({\"source\": \"source\", \"target\": node, 'dashed': \"False\", \"display\": \"False\"})\n",
    "    return links\n",
    "\n",
    "def read_sample(sample):\n",
    "    assert sample in [\n",
    "        \"911\", \"everett\", \"borgatti\", \"potts\", \"DOMESTICTERRORWEB\", \n",
    "        \"HEROIN_DEALING\", \"MAIL\",  \"suicide\", \"SWINGERS_club\", \"HAMBURG_TIE_YEAR\"\n",
    "    ]\n",
    "\n",
    "    if sample == \"911\":\n",
    "        G = nx.read_gml(\"./911.gml\")\n",
    "    elif sample in [\"everett\", \"potts\", \"borgatti\"]:\n",
    "        G = nx.read_gml(f\"./sample_data/{sample}.gml\")\n",
    "    else:\n",
    "        G = nx.read_gml(f\"./empirical_data/{sample}.gml\")\n",
    "\n",
    "    map_dct = {node: int(idx) for idx, node in enumerate(G.nodes())}\n",
    "    return nx.relabel_nodes(G, map_dct, copy=True)\n",
    "    \n"
   ]
  },
  {
   "cell_type": "code",
   "execution_count": 21,
   "metadata": {},
   "outputs": [],
   "source": [
    "def node_centrality_criteria(G):\n",
    "\n",
    "    centrality = {\n",
    "        \"degree\": {\"node\":[], \"value\":[]}, \"closeness\": {\"node\":[], \"value\":[]}, \"betweenness\": {\"node\":[], \"value\":[]}, \"page_rank\": {\"node\":[], \"value\":[]}\n",
    "    }\n",
    "    for metric in [\"degree\", \"closeness\", \"betweenness\", \"page_rank\"]:\n",
    "        node_lst = []\n",
    "        for node in G_nodes(G):\n",
    "            node_lst.append((node[\"id\"], node[metric]))\n",
    "        \n",
    "        hxa = sorted(node_lst, key=lambda x: x[1], reverse=True)\n",
    "        rank = 1\n",
    "        now_score = hxa[0][1]\n",
    "        for idx, (node, score) in enumerate(hxa): \n",
    "            if now_score > score:\n",
    "                now_score = score\n",
    "                rank += 1\n",
    "            centrality[metric][\"node\"].append(node)\n",
    "            centrality[metric][\"value\"].append(rank)\n",
    "\n",
    "    return centrality"
   ]
  },
  {
   "cell_type": "code",
   "execution_count": null,
   "metadata": {},
   "outputs": [],
   "source": []
  }
 ],
 "metadata": {
  "kernelspec": {
   "display_name": "Python 3",
   "language": "python",
   "name": "python3"
  },
  "language_info": {
   "codemirror_mode": {
    "name": "ipython",
    "version": 3
   },
   "file_extension": ".py",
   "mimetype": "text/x-python",
   "name": "python",
   "nbconvert_exporter": "python",
   "pygments_lexer": "ipython3",
   "version": "3.7.4"
  }
 },
 "nbformat": 4,
 "nbformat_minor": 2
}
